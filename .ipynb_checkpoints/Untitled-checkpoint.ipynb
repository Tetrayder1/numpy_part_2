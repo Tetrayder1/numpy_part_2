{
 "cells": [
  {
   "cell_type": "code",
   "execution_count": 1,
   "id": "4b6e893f-25d3-49d1-950b-645390821866",
   "metadata": {},
   "outputs": [],
   "source": [
    "import numpy as np\n",
    "from numpy.random import rand as r\n",
    "from numpy.random import randint as rint\n",
    "from numpy.random import randn as rn"
   ]
  },
  {
   "cell_type": "code",
   "execution_count": 9,
   "id": "295d62af-6d15-4af3-a6ef-1d3648d067cb",
   "metadata": {},
   "outputs": [
    {
     "data": {
      "text/plain": [
       "array([ 4,  7, 10, 13, 16, 19, 22, 25])"
      ]
     },
     "execution_count": 9,
     "metadata": {},
     "output_type": "execute_result"
    }
   ],
   "source": [
    "#arange\n",
    "# range ile eyni prosesi icra edir\n",
    "arr1=np.arange(4,26,3)\n",
    "arr1"
   ]
  },
  {
   "cell_type": "code",
   "execution_count": 21,
   "id": "ce223c71-a1d1-4495-871c-979f8117d420",
   "metadata": {},
   "outputs": [
    {
     "data": {
      "text/plain": [
       "array([[ 4,  7, 10, 13],\n",
       "       [16, 19, 22, 25]])"
      ]
     },
     "execution_count": 21,
     "metadata": {},
     "output_type": "execute_result"
    }
   ],
   "source": [
    "#reshape(m,n)\n",
    "# verilen m*n vur saylı matrisden m-in n-nə matris yaradan funksiyadır\n",
    "arr2=arr1.reshape(4,2)\n",
    "arr12=arr2.reshape(2,4)\n",
    "arr12"
   ]
  },
  {
   "cell_type": "code",
   "execution_count": 18,
   "id": "673d8f50-adbb-42e3-8676-6d577e6694e3",
   "metadata": {},
   "outputs": [
    {
     "name": "stdout",
     "output_type": "stream",
     "text": [
      "[ 4  7 10 13 16 19 22 25]\n",
      "[ 4  7 10 13 16 19 22 25]\n"
     ]
    }
   ],
   "source": [
    "#flatten(),ravel()\n",
    "#matris 1D vəziyyətinə gətirilir\n",
    "arr3=arr1.flatten()\n",
    "arr4=arr2.ravel()\n",
    "print(arr3)\n",
    "print(arr4)"
   ]
  },
  {
   "cell_type": "code",
   "execution_count": 20,
   "id": "c33f6cd1-628b-4376-93d9-092dcfb008d1",
   "metadata": {},
   "outputs": [
    {
     "data": {
      "text/plain": [
       "array([ 4,  7, 10, 13, 16, 19, 22, 25,  4,  7, 10, 13, 16, 19, 22, 25])"
      ]
     },
     "execution_count": 20,
     "metadata": {},
     "output_type": "execute_result"
    }
   ],
   "source": [
    "#concatenate()\n",
    "arr5=np.concatenate([arr3,arr4])\n",
    "arr5"
   ]
  },
  {
   "cell_type": "code",
   "execution_count": 49,
   "id": "31821a20-b381-4888-9f3c-65a378d2ec2d",
   "metadata": {},
   "outputs": [
    {
     "name": "stdout",
     "output_type": "stream",
     "text": [
      "[[56 45]\n",
      " [12 21]\n",
      " [ 1  2]]\n",
      "[[56 45  1]\n",
      " [12 21  2]]\n"
     ]
    }
   ],
   "source": [
    "#hstack()-sağa \n",
    "#vstack()-aşağı əlavə edir\n",
    "\n",
    "# Şaquli və üfüqi birləşdirmə\n",
    "arr_2d=np.array([[56,45],[12,21]])\n",
    "arr_2d1=np.array([[1,2]])\n",
    "#1D matris transpose edilə bilmir\n",
    "print(np.vstack([arr_2d,arr_2d1]))\n",
    "print(np.hstack([arr_2d,arr_2d1.T]))\n"
   ]
  },
  {
   "cell_type": "code",
   "execution_count": 57,
   "id": "163f7c1e-ec5e-4895-b033-155f0a4f93ed",
   "metadata": {},
   "outputs": [
    {
     "name": "stdout",
     "output_type": "stream",
     "text": [
      "[18 17 31 33]\n",
      "[18 17 22 20]\n",
      "[13 29 18 30]\n"
     ]
    }
   ],
   "source": [
    "#split \n",
    "new_arr=rint(12,35,12)\n",
    "[arr_11,arr_12,arr_13]=np.split(new_arr,3)\n",
    "print(arr_11)\n",
    "print(arr_12)\n",
    "print(arr_13)"
   ]
  },
  {
   "cell_type": "code",
   "execution_count": 62,
   "id": "d387fb78-d8c4-4509-9593-81b8beb163df",
   "metadata": {},
   "outputs": [
    {
     "name": "stdout",
     "output_type": "stream",
     "text": [
      "[4 1 4 1 4 1]\n",
      "[4 4 4 4 1 1 1 1]\n"
     ]
    }
   ],
   "source": [
    "#tile və repeat\n",
    "arr6=rint(1,10,2)\n",
    "print(np.tile(arr6,3))\n",
    "print(np.repeat(arr6,4))"
   ]
  },
  {
   "cell_type": "code",
   "execution_count": null,
   "id": "e3316fff-3ead-436b-83cd-a63992f8564f",
   "metadata": {},
   "outputs": [],
   "source": [
    "#Linear Algebra (Xətti Cəbr)"
   ]
  },
  {
   "cell_type": "code",
   "execution_count": 77,
   "id": "07aaa146-77df-4026-8dba-e2596dad8e57",
   "metadata": {},
   "outputs": [
    {
     "name": "stdout",
     "output_type": "stream",
     "text": [
      "[[0.09332527 0.66303865]\n",
      " [0.17796933 0.79607321]\n",
      " [0.11069853 0.50881255]]\n"
     ]
    }
   ],
   "source": [
    "#Dot və Matmul (Matris hasilini hesablamaq)\n",
    "arr7=r(3,3)\n",
    "#Vuram ve digər proseslərlə işləyə bilmək üçün birinin m-i digərinin n-inə bərabər olmalıdır\n",
    "arr8=r(3,2)\n",
    "print(np.dot(arr7,arr8))\n"
   ]
  },
  {
   "cell_type": "code",
   "execution_count": 83,
   "id": "b2544f62-17d7-482b-8084-eaa384e76278",
   "metadata": {},
   "outputs": [
    {
     "name": "stdout",
     "output_type": "stream",
     "text": [
      "Cavab: [ 1. -1.]\n"
     ]
    }
   ],
   "source": [
    "# Xətti Tənliklərin Həlli\n",
    "# 0.1x+0.9y=-0.8\n",
    "# 2x-3y=5\n",
    "əmsallar=np.array([[0.1,0.9],[2,-3]])\n",
    "qiymetler=np.array([-0.8,5])\n",
    "cavab=np.linalg.solve(əmsallar,qiymetler)\n",
    "print(\"Cavab:\",cavab)\n"
   ]
  },
  {
   "cell_type": "code",
   "execution_count": 90,
   "id": "ccf450f7-ebe8-423a-a32a-8665663f9cb4",
   "metadata": {},
   "outputs": [
    {
     "name": "stdout",
     "output_type": "stream",
     "text": [
      "Determinant: -1.763640347024504\n",
      "Inverse:\n",
      " [[-0.54630718 -0.34456983 -0.14413917]\n",
      " [-0.36145654 -0.9311278  -0.3933719 ]\n",
      " [-1.23233872 -0.86635086 -1.83896638]]\n"
     ]
    }
   ],
   "source": [
    "#Determinant və İnvers\n",
    "arr9=rn(3,3)\n",
    "\n",
    "det=np.linalg.det(arr9)\n",
    "inv=np.linalg.inv(arr9)\n",
    "\n",
    "print(\"Determinant:\", det) \n",
    "print(\"Inverse:\\n\", inv)"
   ]
  },
  {
   "cell_type": "code",
   "execution_count": 79,
   "id": "82762ffd-7d6b-4c9d-84fc-81a60470ce56",
   "metadata": {},
   "outputs": [
    {
     "name": "stdout",
     "output_type": "stream",
     "text": [
      "Eigenvalues: [ 0.99009103  0.35344446 -0.12214421]\n",
      "Eigenvectors:\n",
      " [[-0.64654486 -0.31153194 -0.092616  ]\n",
      " [-0.59406183  0.82898503 -0.92001068]\n",
      " [-0.47861287  0.46446923  0.3807921 ]]\n"
     ]
    }
   ],
   "source": [
    "# Eigenvalues və Eigenvectors\n",
    "vals, vecs = np.linalg.eig(arr7)\n",
    "# Kvadratik matris olmalılıdır\n",
    "# print( np.linalg.eig(arr7))\n",
    "print(\"Eigenvalues:\", vals)\n",
    "print(\"Eigenvectors:\\n\", vecs)"
   ]
  },
  {
   "cell_type": "code",
   "execution_count": 98,
   "id": "d03251e0-2766-45d5-a0db-d7bf35351473",
   "metadata": {},
   "outputs": [
    {
     "name": "stdout",
     "output_type": "stream",
     "text": [
      "[[0 0]\n",
      " [0 0]]\n",
      "[['0.0' '0.0']\n",
      " ['0.0' '0.0']]\n",
      "[9. 2. 4. 4. 9. 6.]\n",
      "[ 2  3  1 11]\n",
      "['9' '2' '4' '4' '9' '6']\n",
      "[ 2.  3.  1. 11.]\n"
     ]
    }
   ],
   "source": [
    "#astype() tipi keçidleri üçün istifadə edilir\n",
    "zero=np.zeros((2,2))\n",
    "ededler=rint(1,10,6)\n",
    "str_ededler=np.array(['2','3','1','11'])\n",
    "#Float=>int\n",
    "print(zero.astype(int))\n",
    "#Float=>string\n",
    "print(zero.astype(str))\n",
    "#int=>Float\n",
    "print(ededler.astype(float))\n",
    "#string=>int\n",
    "print(str_ededler.astype(int))\n",
    "#int=>string\n",
    "print(ededler.astype(str))\n",
    "#string=>float\n",
    "print(str_ededler.astype(float))"
   ]
  },
  {
   "cell_type": "code",
   "execution_count": null,
   "id": "0b7a27d1-847b-4d7b-bfe4-ab4b53910f09",
   "metadata": {},
   "outputs": [],
   "source": []
  }
 ],
 "metadata": {
  "kernelspec": {
   "display_name": "Python 3 (ipykernel)",
   "language": "python",
   "name": "python3"
  },
  "language_info": {
   "codemirror_mode": {
    "name": "ipython",
    "version": 3
   },
   "file_extension": ".py",
   "mimetype": "text/x-python",
   "name": "python",
   "nbconvert_exporter": "python",
   "pygments_lexer": "ipython3",
   "version": "3.12.7"
  }
 },
 "nbformat": 4,
 "nbformat_minor": 5
}
